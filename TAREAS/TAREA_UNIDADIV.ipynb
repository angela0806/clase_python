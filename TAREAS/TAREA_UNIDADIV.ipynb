{
  "nbformat": 4,
  "nbformat_minor": 0,
  "metadata": {
    "colab": {
      "provenance": [],
      "authorship_tag": "ABX9TyNvO/QK0TJzODL42Iy8fB6F",
      "include_colab_link": true
    },
    "kernelspec": {
      "name": "python3",
      "display_name": "Python 3"
    },
    "language_info": {
      "name": "python"
    }
  },
  "cells": [
    {
      "cell_type": "markdown",
      "metadata": {
        "id": "view-in-github",
        "colab_type": "text"
      },
      "source": [
        "<a href=\"https://colab.research.google.com/github/angela0806/clase_python/blob/main/TAREAS/TAREA_UNIDADIV.ipynb\" target=\"_parent\"><img src=\"https://colab.research.google.com/assets/colab-badge.svg\" alt=\"Open In Colab\"/></a>"
      ]
    },
    {
      "cell_type": "markdown",
      "source": [
        "# **UNIDAD IV: FUNCIONES**"
      ],
      "metadata": {
        "id": "PlhIYmkDegBN"
      }
    },
    {
      "cell_type": "markdown",
      "source": [
        "**LIST COMPREHENSIONS**"
      ],
      "metadata": {
        "id": "WUwtJXDUe3-C"
      }
    },
    {
      "cell_type": "markdown",
      "source": [
        "Ejercicio 1\n",
        "\n",
        "use un bucle for para imprimir los números del 1 al 20, inclusive."
      ],
      "metadata": {
        "id": "zY2odsUTfFyr"
      }
    },
    {
      "cell_type": "code",
      "execution_count": null,
      "metadata": {
        "id": "9K3FPbmDebJD"
      },
      "outputs": [],
      "source": []
    },
    {
      "cell_type": "markdown",
      "source": [
        "Ejercicio 2\n",
        "\n",
        "Haga una lista de los números del uno al millón y luego use un ciclo for para imprimir los números. (Si la salida tarda demasiado, deténgala presionando CTRL-C o cerrando la ventana de salida)."
      ],
      "metadata": {
        "id": "KHQ9XQuAfHNH"
      }
    },
    {
      "cell_type": "markdown",
      "source": [
        "Ejercicio 3\n",
        "\n",
        "Haga una lista de los números del uno al millón y luego use min() y max() para asegurarse de que su lista realmente comience en uno y termine en un millón. Además, use la función sum() para ver qué tan rápido Python puede agregar un millón de números."
      ],
      "metadata": {
        "id": "yE1Y4L7HfJES"
      }
    },
    {
      "cell_type": "markdown",
      "source": [
        "Ejercicio 4\n",
        "\n",
        "Use el tercer argumento de la función range() para hacer una lista de los números impares del 1 al 20. Use un bucle for para imprimir cada número."
      ],
      "metadata": {
        "id": "zsBcmR9KfLFT"
      }
    },
    {
      "cell_type": "markdown",
      "source": [
        "Ejercicio 5\n",
        "\n",
        "Haga una lista de los múltiplos de 3 de 3 a 30. Use un ciclo for para imprimir los números en su lista."
      ],
      "metadata": {
        "id": "8ht30r48fNDg"
      }
    },
    {
      "cell_type": "markdown",
      "source": [
        "Ejercicio 6\n",
        "\n",
        "Haga una lista de los primeros 10 cubos (es decir, el cubo de cada número entero del 1 al 10) y use un ciclo for para imprimir el valor de cada cubo."
      ],
      "metadata": {
        "id": "GBTXVXKifQet"
      }
    },
    {
      "cell_type": "markdown",
      "source": [
        "Ejercicio 7\n",
        "\n",
        "Use una lista de comprensión para generar una lista de los primeros 10 cubos."
      ],
      "metadata": {
        "id": "pUym5X2ifTbu"
      }
    },
    {
      "cell_type": "markdown",
      "source": [
        "**MODIFICANDO UNA TUPLA**"
      ],
      "metadata": {
        "id": "QCycfTwOfYw5"
      }
    },
    {
      "cell_type": "markdown",
      "source": [
        "Ejercicio 1\n",
        "\n",
        "Un restaurante estilo buffet ofrece solo cinco alimentos básicos. Piense en cinco alimentos simples y guárdelos en una tupla.\n",
        "\n",
        "Use un bucle for para imprimir cada comida que ofrece el restaurante. Intente modificar uno de los elementos y asegúrese de que Python rechace el cambio.\n",
        "El restaurante cambia su menú, reemplazando dos de los artículos con comidas diferentes. Agregue una línea que reescriba la tupla y luego use un ciclo for para imprimir cada uno de los elementos en el menú revisado."
      ],
      "metadata": {
        "id": "s0zTWTw2fbk8"
      }
    },
    {
      "cell_type": "code",
      "source": [],
      "metadata": {
        "id": "BA74qB8VfbFW"
      },
      "execution_count": null,
      "outputs": []
    },
    {
      "cell_type": "markdown",
      "source": [
        "**USANDO GET PARA ACCEDER A LOS VALORES**"
      ],
      "metadata": {
        "id": "JcTa_EUIfi3G"
      }
    },
    {
      "cell_type": "markdown",
      "source": [
        "Ejercicio 1\n",
        "\n",
        "Usa un diccionario para almacenar información sobre una persona que conoces. Almacene su nombre, apellido, edad y la ciudad en la que vive. Debe tener claves como nombre, apellido, edad y ciudad. Imprima cada parte de información almacenada en su diccionario."
      ],
      "metadata": {
        "id": "KL8cEor_fmpU"
      }
    },
    {
      "cell_type": "markdown",
      "source": [
        "Ejercicio 2\n",
        "\n",
        "Use un diccionario para almacenar los números favoritos de las personas. Piensa en cinco nombres y utilízalos como llaves en tu diccionario. Piense en un número favorito para cada persona y guárdelo como un valor en su diccionario. Escriba el nombre de cada persona y su número favorito."
      ],
      "metadata": {
        "id": "Cl4kM18ZfpYg"
      }
    },
    {
      "cell_type": "markdown",
      "source": [
        "Ejercicio 3\n",
        "\n",
        "Piense en cinco palabras de programación que haya aprendido. Utilice estas palabras como llaves en su glosario y almacene sus significados como valores.\n",
        "\n",
        "Imprima cada palabra y su significado como una salida con un formato ordenado. Puede imprimir la palabra seguida de dos puntos y luego su significado, o imprimir la palabra en una línea y luego imprimir su significado con sangría en una segunda línea. Utilice el carácter de nueva línea (\\n) para insertar una línea en blanco entre cada par de palabra y significado en su salida."
      ],
      "metadata": {
        "id": "LOZSGuY1fruq"
      }
    },
    {
      "cell_type": "markdown",
      "source": [
        "**LOOPS CON DICCIONARIOS**"
      ],
      "metadata": {
        "id": "4F6Vqd5DfwLb"
      }
    },
    {
      "cell_type": "markdown",
      "source": [
        "Ejercicio 1\n",
        "\n",
        "Haga un diccionario que contenga tres ríos principales y el país por el que pasa cada río. Un par clave-valor podría ser 'nilo': 'egipto'.\n",
        "\n",
        "Use un bucle para imprimir una oración sobre cada río, como El Nilo atraviesa Egipto.\n",
        "Utilice un bucle para imprimir el nombre de cada río incluido en el diccionario.\n",
        "Use un bucle para imprimir el nombre de cada país incluido en el diccionario."
      ],
      "metadata": {
        "id": "KTZxOgkNfy3F"
      }
    },
    {
      "cell_type": "markdown",
      "source": [
        "Ejercicio 2\n",
        "\n",
        "Haz una lista de las personas que deberían participar en la encuesta de idiomas favoritos. Incluye algunos nombres que ya estén en el diccionario y otros que no. Recorra la lista de personas que deberían realizar la encuesta. Si ya han realizado la encuesta, imprima un mensaje agradeciéndoles por responder. Si aún no han realizado la encuesta, imprima un mensaje invitándoles a realizar la encuesta."
      ],
      "metadata": {
        "id": "fTx3tnKHf1Ic"
      }
    },
    {
      "cell_type": "markdown",
      "source": [
        "**UNA LISTA EN UN DICCIONARIO**"
      ],
      "metadata": {
        "id": "ZvtCxOs8f6B6"
      }
    },
    {
      "cell_type": "markdown",
      "source": [
        "Ejercicio 1\n",
        "\n",
        "Cree tres nuevos diccionarios que representen a diferentes personas y almacene los tres diccionarios en una lista llamada personas. Recorra su lista de personas. Mientras recorre la lista, imprima todo lo que sabe sobre cada persona."
      ],
      "metadata": {
        "id": "4wKsc8u7f9gU"
      }
    },
    {
      "cell_type": "markdown",
      "source": [
        "Ejercicio 2\n",
        "\n",
        "Haga varios diccionarios, donde cada diccionario represente una mascota diferente. En cada diccionario, incluya el tipo de animal y el nombre del dueño. Guarde estos diccionarios en una lista llamada mascotas. A continuación, recorra su lista y, mientras lo hace, imprima todo lo que sepa sobre cada mascota."
      ],
      "metadata": {
        "id": "e72uQrvzgANp"
      }
    },
    {
      "cell_type": "markdown",
      "source": [
        "Ejercicio 3\n",
        "\n",
        "Haga un diccionario llamado lugares_favoritos. Piense en tres nombres para usar como llaves en el diccionario y almacene de uno a tres lugares favoritos para cada persona. Recorre el diccionario e imprime el nombre de cada persona y sus lugares favoritos."
      ],
      "metadata": {
        "id": "yPaOEc5EgCly"
      }
    },
    {
      "cell_type": "markdown",
      "source": [
        "Ejercicio 4\n",
        "\n",
        "Haz un diccionario llamado ciudades. Usa los nombres de tres ciudades como llaves en tu diccionario. Cree un diccionario de información sobre cada ciudad e incluya el país en el que se encuentra la ciudad, su población aproximada y un dato sobre esa ciudad. Las claves para el diccionario de cada ciudad deben ser algo como país, población y hecho. Imprime el nombre de cada ciudad y toda la información que tengas almacenada sobre ella."
      ],
      "metadata": {
        "id": "ZVgEmajogFIO"
      }
    },
    {
      "cell_type": "markdown",
      "source": [
        "Ejercicio 5\n",
        "\n",
        "Ahora estamos trabajando con ejemplos que son lo suficientemente complejos como para que puedan extenderse de varias maneras. Utilice uno de los programas de este laboratorio y amplíelo agregando nuevas claves y valores, cambiando el contexto del programa o mejorando el formato de la salida."
      ],
      "metadata": {
        "id": "iAP6xgkfgHbT"
      }
    }
  ]
}