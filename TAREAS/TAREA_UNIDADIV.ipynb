{
  "nbformat": 4,
  "nbformat_minor": 0,
  "metadata": {
    "colab": {
      "provenance": [],
      "collapsed_sections": [],
      "authorship_tag": "ABX9TyM6IScfp6fVOkYLFO4V04QS",
      "include_colab_link": true
    },
    "kernelspec": {
      "name": "python3",
      "display_name": "Python 3"
    },
    "language_info": {
      "name": "python"
    }
  },
  "cells": [
    {
      "cell_type": "markdown",
      "metadata": {
        "id": "view-in-github",
        "colab_type": "text"
      },
      "source": [
        "<a href=\"https://colab.research.google.com/github/angela0806/clase_python/blob/main/TAREAS/TAREA_UNIDADIV.ipynb\" target=\"_parent\"><img src=\"https://colab.research.google.com/assets/colab-badge.svg\" alt=\"Open In Colab\"/></a>"
      ]
    },
    {
      "cell_type": "markdown",
      "source": [
        "# **UNIDAD IV: FUNCIONES**"
      ],
      "metadata": {
        "id": "PlhIYmkDegBN"
      }
    },
    {
      "cell_type": "markdown",
      "source": [
        "**LIST COMPREHENSIONS**"
      ],
      "metadata": {
        "id": "WUwtJXDUe3-C"
      }
    },
    {
      "cell_type": "markdown",
      "source": [
        "Ejercicio 1\n",
        "\n",
        "use un bucle for para imprimir los números del 1 al 20, inclusive."
      ],
      "metadata": {
        "id": "zY2odsUTfFyr"
      }
    },
    {
      "cell_type": "code",
      "execution_count": null,
      "metadata": {
        "id": "9K3FPbmDebJD",
        "colab": {
          "base_uri": "https://localhost:8080/"
        },
        "outputId": "236b2225-fc8c-4bc4-8e8a-afeca4b12661"
      },
      "outputs": [
        {
          "output_type": "stream",
          "name": "stdout",
          "text": [
            "[1, 2, 3, 4, 5, 6, 7, 8, 9, 10, 11, 12, 13, 14, 15, 16, 17, 18, 19, 20]\n"
          ]
        }
      ],
      "source": [
        "numbers = list(range(1, 21))\n",
        "print(numbers)"
      ]
    },
    {
      "cell_type": "markdown",
      "source": [
        "Ejercicio 2\n",
        "\n",
        "Haga una lista de los números del uno al millón y luego use un ciclo for para imprimir los números. (Si la salida tarda demasiado, deténgala presionando CTRL-C o cerrando la ventana de salida)."
      ],
      "metadata": {
        "id": "KHQ9XQuAfHNH"
      }
    },
    {
      "cell_type": "code",
      "source": [
        "lista =range(1,21)\n",
        "for i in lista:\n",
        "  print (i)"
      ],
      "metadata": {
        "colab": {
          "base_uri": "https://localhost:8080/"
        },
        "id": "5HVa6AipzEYn",
        "outputId": "0c429a9e-2a77-4f34-d3a7-49d97c0ce1f7"
      },
      "execution_count": null,
      "outputs": [
        {
          "output_type": "stream",
          "name": "stdout",
          "text": [
            "1\n",
            "2\n",
            "3\n",
            "4\n",
            "5\n",
            "6\n",
            "7\n",
            "8\n",
            "9\n",
            "10\n",
            "11\n",
            "12\n",
            "13\n",
            "14\n",
            "15\n",
            "16\n",
            "17\n",
            "18\n",
            "19\n",
            "20\n"
          ]
        }
      ]
    },
    {
      "cell_type": "markdown",
      "source": [
        "Ejercicio 3\n",
        "\n",
        "Haga una lista de los números del uno al millón y luego use min() y max() para asegurarse de que su lista realmente comience en uno y termine en un millón. Además, use la función sum() para ver qué tan rápido Python puede agregar un millón de números."
      ],
      "metadata": {
        "id": "yE1Y4L7HfJES"
      }
    },
    {
      "cell_type": "code",
      "source": [
        "numeros = [valor for valor in range(1, 1000001)]\n",
        "print(min(numeros))\n",
        "print(max(numeros))\n",
        "print(sum(numeros))"
      ],
      "metadata": {
        "colab": {
          "base_uri": "https://localhost:8080/"
        },
        "id": "gz9jl3yR0abY",
        "outputId": "54ca84e4-25e9-428e-c7d8-0dac0707fdb7"
      },
      "execution_count": null,
      "outputs": [
        {
          "output_type": "stream",
          "name": "stdout",
          "text": [
            "1\n",
            "1000000\n",
            "500000500000\n"
          ]
        }
      ]
    },
    {
      "cell_type": "markdown",
      "source": [
        "Ejercicio 4\n",
        "\n",
        "Use el tercer argumento de la función range() para hacer una lista de los números impares del 1 al 20. Use un bucle for para imprimir cada número."
      ],
      "metadata": {
        "id": "zsBcmR9KfLFT"
      }
    },
    {
      "cell_type": "code",
      "source": [
        "for i in range (1,20,2):\n",
        "  print(i)\n"
      ],
      "metadata": {
        "colab": {
          "base_uri": "https://localhost:8080/"
        },
        "id": "ystH26Iu0oSZ",
        "outputId": "7b7b469f-4711-4e64-e77f-686b1ee4c54e"
      },
      "execution_count": null,
      "outputs": [
        {
          "output_type": "stream",
          "name": "stdout",
          "text": [
            "1\n",
            "3\n",
            "5\n",
            "7\n",
            "9\n",
            "11\n",
            "13\n",
            "15\n",
            "17\n",
            "19\n"
          ]
        }
      ]
    },
    {
      "cell_type": "markdown",
      "source": [
        "Ejercicio 5\n",
        "\n",
        "Haga una lista de los múltiplos de 3 de 3 a 30. Use un ciclo for para imprimir los números en su lista."
      ],
      "metadata": {
        "id": "8ht30r48fNDg"
      }
    },
    {
      "cell_type": "code",
      "source": [
        "lista = list(range(3,31))\n",
        "for i in lista:\n",
        "  if i%3==0:\n",
        "    print(i)\n"
      ],
      "metadata": {
        "colab": {
          "base_uri": "https://localhost:8080/"
        },
        "id": "13M7l89B0v7f",
        "outputId": "083fdb49-9e0e-4ecb-db88-953ecf964960"
      },
      "execution_count": null,
      "outputs": [
        {
          "output_type": "stream",
          "name": "stdout",
          "text": [
            "3\n",
            "6\n",
            "9\n",
            "12\n",
            "15\n",
            "18\n",
            "21\n",
            "24\n",
            "27\n",
            "30\n"
          ]
        }
      ]
    },
    {
      "cell_type": "markdown",
      "source": [
        "Ejercicio 6\n",
        "\n",
        "Haga una lista de los primeros 10 cubos (es decir, el cubo de cada número entero del 1 al 10) y use un ciclo for para imprimir el valor de cada cubo."
      ],
      "metadata": {
        "id": "GBTXVXKifQet"
      }
    },
    {
      "cell_type": "code",
      "source": [
        "cubos = [value**3 for value in range(1, 11)]\n",
        "print(cubos)"
      ],
      "metadata": {
        "colab": {
          "base_uri": "https://localhost:8080/"
        },
        "id": "q0dYaeW71n9x",
        "outputId": "87734008-0cf3-412a-b08c-9ca25e003d25"
      },
      "execution_count": null,
      "outputs": [
        {
          "output_type": "stream",
          "name": "stdout",
          "text": [
            "[1, 8, 27, 64, 125, 216, 343, 512, 729, 1000]\n"
          ]
        }
      ]
    },
    {
      "cell_type": "markdown",
      "source": [
        "Ejercicio 7\n",
        "\n",
        "Use una lista de comprensión para generar una lista de los primeros 10 cubos."
      ],
      "metadata": {
        "id": "pUym5X2ifTbu"
      }
    },
    {
      "cell_type": "code",
      "source": [
        "lista=[value**3 for value in range(1,11)]\n",
        "print(lista)"
      ],
      "metadata": {
        "colab": {
          "base_uri": "https://localhost:8080/"
        },
        "id": "xV4AO3VA1uPW",
        "outputId": "676673e3-e13f-4f37-8ce6-ada329977c4c"
      },
      "execution_count": null,
      "outputs": [
        {
          "output_type": "stream",
          "name": "stdout",
          "text": [
            "[1, 8, 27, 64, 125, 216, 343, 512, 729, 1000]\n"
          ]
        }
      ]
    },
    {
      "cell_type": "markdown",
      "source": [
        "\n",
        "Ejercicio 1\n",
        "\n",
        "Utilizando alguna lista definida anteriormente:\n",
        "\n",
        "Imprima el mensaje Los tres primeros elementos de la lista son:. Luego use un slice para imprimir los primeros tres elementos de la lista de ese programa.\n",
        "\n",
        "Imprima el mensaje Tres elementos de la mitad de la lista son:. Use un slice para imprimir tres elementos del medio de la lista.\n",
        "\n",
        "Imprima el mensaje Los últimos tres elementos de la lista son:. Utilice un slice para imprimir los últimos tres elementos de la lista."
      ],
      "metadata": {
        "id": "mJDxzcAI2eoc"
      }
    },
    {
      "cell_type": "code",
      "source": [
        "my_foods = ['pizza', 'falafel', 'carrot cake','Napolitana']\n",
        "friend_foods = my_foods[:]\n",
        "print(f\"Los tres primeros elemenos de la lista son :\\n\\t{my_foods[0:3]}\")\n",
        "print(f\"Tres elementos de la mitad de la lista son :\\n\\t{my_foods[-3:]}\")\n",
        "print(f\"Los últimos tres elementos de la lista son :\\n\\t{my_foods[-3:]}\")"
      ],
      "metadata": {
        "colab": {
          "base_uri": "https://localhost:8080/"
        },
        "id": "Q5SYDaIa2vJg",
        "outputId": "c2e6e60a-4cbe-4b8e-daa2-e903c6ec6af5"
      },
      "execution_count": null,
      "outputs": [
        {
          "output_type": "stream",
          "name": "stdout",
          "text": [
            "Los tres primeros elemenos de la lista son :\n",
            "\t['pizza', 'falafel', 'carrot cake']\n",
            "Tres elementos de la mitad de la lista son :\n",
            "\t['falafel', 'carrot cake', 'Napolitana']\n",
            "Los últimos tres elementos de la lista son :\n",
            "\t['falafel', 'carrot cake', 'Napolitana']\n"
          ]
        }
      ]
    },
    {
      "cell_type": "markdown",
      "source": [
        "\n",
        "Ejercicio 2\n",
        "\n",
        "Haga una copia de la lista de pizzas y llámela friend_pizzas. Luego, haz lo siguiente:\n",
        "\n",
        "Agregue una nueva pizza a la lista original.\n",
        "Agrega una pizza diferente a la lista friend_pizzas.\n",
        "Demuestra que tienes dos listas separadas. Imprima el mensaje Mis pizzas favoritas son: y luego use un bucle for para imprimir la primera lista. Imprima el mensaje Las pizzas favoritas de mi amigo son: y luego use un bucle for para imprimir la segunda lista. Asegúrese de que cada pizza nueva se almacene en la lista adecuada."
      ],
      "metadata": {
        "id": "K7_yCYUH2hQO"
      }
    },
    {
      "cell_type": "code",
      "source": [
        "pizzas = ['peperoni','americana','vegetariana','hawaiana','cuatro quesos']\n",
        "friend_pizzas = pizzas[:]\n",
        "pizzas.append('champiñones')\n",
        "print(\"Mis pizzas favoritas son:\")\n",
        "for fav_pizzas in pizzas:\n",
        "  print(f\"-{fav_pizzas}\")\n",
        "print(\"Las pizzas favoritas de mi amigo son::\")\n",
        "for fav_friend_pizzas in friend_pizzas:\n",
        "  print(f\"-{fav_friend_pizzas}\")"
      ],
      "metadata": {
        "colab": {
          "base_uri": "https://localhost:8080/"
        },
        "id": "T5_JTbXB3u3P",
        "outputId": "bfe843b9-258f-4bed-d165-805fbb059d7e"
      },
      "execution_count": null,
      "outputs": [
        {
          "output_type": "stream",
          "name": "stdout",
          "text": [
            "Mis pizzas favoritas son:\n",
            "-peperoni\n",
            "-americana\n",
            "-vegetariana\n",
            "-hawaiana\n",
            "-cuatro quesos\n",
            "-champiñones\n",
            "Las pizzas favoritas de mi amigo son::\n",
            "-peperoni\n",
            "-americana\n",
            "-vegetariana\n",
            "-hawaiana\n",
            "-cuatro quesos\n"
          ]
        }
      ]
    },
    {
      "cell_type": "markdown",
      "source": [
        "**MODIFICANDO UNA TUPLA**"
      ],
      "metadata": {
        "id": "QCycfTwOfYw5"
      }
    },
    {
      "cell_type": "markdown",
      "source": [
        "Ejercicio 1\n",
        "\n",
        "Un restaurante estilo buffet ofrece solo cinco alimentos básicos. Piense en cinco alimentos simples y guárdelos en una tupla.\n",
        "\n",
        "Use un bucle for para imprimir cada comida que ofrece el restaurante. Intente modificar uno de los elementos y asegúrese de que Python rechace el cambio.\n",
        "El restaurante cambia su menú, reemplazando dos de los artículos con comidas diferentes. Agregue una línea que reescriba la tupla y luego use un ciclo for para imprimir cada uno de los elementos en el menú revisado."
      ],
      "metadata": {
        "id": "s0zTWTw2fbk8"
      }
    },
    {
      "cell_type": "code",
      "source": [
        "buffet = ('Ceviche','Chicharrón de chancho.','Rocoto Relleno.','Lomo Saltado','Pollo al horno')\n",
        "print(\"\\n los Alimentos Basicos son:\")\n",
        "for b in buffet:\n",
        "  print(f'-{b}')\n"
      ],
      "metadata": {
        "id": "BA74qB8VfbFW",
        "colab": {
          "base_uri": "https://localhost:8080/"
        },
        "outputId": "e449272b-e089-4eda-f76c-2e9e228cebec"
      },
      "execution_count": null,
      "outputs": [
        {
          "output_type": "stream",
          "name": "stdout",
          "text": [
            "\n",
            " los Alimentos Basicos son:\n",
            "-Ceviche\n",
            "-Chicharrón de chancho.\n",
            "-Rocoto Relleno.\n",
            "-Lomo Saltado\n",
            "-Pollo al horno\n"
          ]
        }
      ]
    },
    {
      "cell_type": "markdown",
      "source": [
        "**USANDO GET PARA ACCEDER A LOS VALORES**"
      ],
      "metadata": {
        "id": "JcTa_EUIfi3G"
      }
    },
    {
      "cell_type": "markdown",
      "source": [
        "Ejercicio 1\n",
        "\n",
        "Usa un diccionario para almacenar información sobre una persona que conoces. Almacene su nombre, apellido, edad y la ciudad en la que vive. Debe tener claves como nombre, apellido, edad y ciudad. Imprima cada parte de información almacenada en su diccionario."
      ],
      "metadata": {
        "id": "KL8cEor_fmpU"
      }
    },
    {
      "cell_type": "code",
      "source": [
        "persona = {'nombre':'Carla','apellido' : 'Armas','edad':15,'ciudad':'Huaraz'}\n",
        "print(persona['nombre'])\n",
        "print(persona['apellido'])\n",
        "print(persona['edad'])\n",
        "print(persona['ciudad'])"
      ],
      "metadata": {
        "colab": {
          "base_uri": "https://localhost:8080/"
        },
        "id": "5RAo7OXQ6Jop",
        "outputId": "9c9e30a2-eda1-4d4e-c858-14db02630605"
      },
      "execution_count": null,
      "outputs": [
        {
          "output_type": "stream",
          "name": "stdout",
          "text": [
            "Carla\n",
            "Armas\n",
            "15\n",
            "Huaraz\n"
          ]
        }
      ]
    },
    {
      "cell_type": "markdown",
      "source": [
        "Ejercicio 2\n",
        "\n",
        "Use un diccionario para almacenar los números favoritos de las personas. Piensa en cinco nombres y utilízalos como llaves en tu diccionario. Piense en un número favorito para cada persona y guárdelo como un valor en su diccionario. Escriba el nombre de cada persona y su número favorito."
      ],
      "metadata": {
        "id": "Cl4kM18ZfpYg"
      }
    },
    {
      "cell_type": "code",
      "source": [
        "Nfavoritos = {'Carla': 56, 'Flor': 65,'Cesar':87,'Frank':80,'Ricardo':15}\n",
        "for i in Nfavoritos:\n",
        "  print(\"El numero favorito de \"+i+\" es :\")\n",
        "  print(Nfavoritos[i])\n"
      ],
      "metadata": {
        "colab": {
          "base_uri": "https://localhost:8080/"
        },
        "id": "oHqL3fVG6aBt",
        "outputId": "a74c8f8d-d85b-458f-aa77-03e01f0e7a4a"
      },
      "execution_count": null,
      "outputs": [
        {
          "output_type": "stream",
          "name": "stdout",
          "text": [
            "El numero favorito de Carla es :\n",
            "56\n",
            "El numero favorito de Flor es :\n",
            "65\n",
            "El numero favorito de Cesar es :\n",
            "87\n",
            "El numero favorito de Frank es :\n",
            "80\n",
            "El numero favorito de Ricardo es :\n",
            "15\n"
          ]
        }
      ]
    },
    {
      "cell_type": "markdown",
      "source": [
        "Ejercicio 3\n",
        "\n",
        "Piense en cinco palabras de programación que haya aprendido. Utilice estas palabras como llaves en su glosario y almacene sus significados como valores.\n",
        "\n",
        "Imprima cada palabra y su significado como una salida con un formato ordenado. Puede imprimir la palabra seguida de dos puntos y luego su significado, o imprimir la palabra en una línea y luego imprimir su significado con sangría en una segunda línea. Utilice el carácter de nueva línea (\\n) para insertar una línea en blanco entre cada par de palabra y significado en su salida."
      ],
      "metadata": {
        "id": "LOZSGuY1fruq"
      }
    },
    {
      "cell_type": "code",
      "source": [
        "glosario = {\n",
        "    'print':'Imprimir',\n",
        "    'get':'Obtener',\n",
        "    'while':'Mientras',\n",
        "    'for':'Para',\n",
        "    'if':'Si',\n",
        "}\n",
        "for palabra, significado in glosario.items():\n",
        "  print(f\"-El signnificado de {palabra} es {significado}.\")\n"
      ],
      "metadata": {
        "colab": {
          "base_uri": "https://localhost:8080/"
        },
        "id": "JbODPjF-7JTt",
        "outputId": "ca68f228-7a29-43be-e074-18285d737c77"
      },
      "execution_count": null,
      "outputs": [
        {
          "output_type": "stream",
          "name": "stdout",
          "text": [
            "-El signnificado de print es Imprimir.\n",
            "-El signnificado de get es Obtener.\n",
            "-El signnificado de while es Mientras.\n",
            "-El signnificado de for es Para.\n",
            "-El signnificado de if es Si.\n"
          ]
        }
      ]
    },
    {
      "cell_type": "markdown",
      "source": [
        "**LOOPS CON DICCIONARIOS**"
      ],
      "metadata": {
        "id": "4F6Vqd5DfwLb"
      }
    },
    {
      "cell_type": "markdown",
      "source": [
        "Ejercicio 1\n",
        "\n",
        "Haga un diccionario que contenga tres ríos principales y el país por el que pasa cada río. Un par clave-valor podría ser 'nilo': 'egipto'.\n",
        "\n",
        "Use un bucle para imprimir una oración sobre cada río, como El Nilo atraviesa Egipto.\n",
        "Utilice un bucle para imprimir el nombre de cada río incluido en el diccionario.\n",
        "Use un bucle para imprimir el nombre de cada país incluido en el diccionario."
      ],
      "metadata": {
        "id": "KTZxOgkNfy3F"
      }
    },
    {
      "cell_type": "code",
      "source": [
        "Dic ={'Nilo':'Egipto','Danubio':'Alemania','Amazonas':'Perú'}\n",
        "for rio, pais in Dic.items():\n",
        "  print(f\"El {rio} atravieza {pais}.\")\n"
      ],
      "metadata": {
        "colab": {
          "base_uri": "https://localhost:8080/"
        },
        "id": "ostVYoZsABDf",
        "outputId": "c56cb1ed-7f0e-491a-fbfe-03746a04766a"
      },
      "execution_count": null,
      "outputs": [
        {
          "output_type": "stream",
          "name": "stdout",
          "text": [
            "El Nilo atravieza Egipto.\n",
            "El Danubio atravieza Alemania.\n",
            "El Amazonas atravieza Perú.\n"
          ]
        }
      ]
    },
    {
      "cell_type": "markdown",
      "source": [
        "Ejercicio 2\n",
        "\n",
        "Haz una lista de las personas que deberían participar en la encuesta de idiomas favoritos. Incluye algunos nombres que ya estén en el diccionario y otros que no. Recorra la lista de personas que deberían realizar la encuesta. Si ya han realizado la encuesta, imprima un mensaje agradeciéndoles por responder. Si aún no han realizado la encuesta, imprima un mensaje invitándoles a realizar la encuesta."
      ],
      "metadata": {
        "id": "fTx3tnKHf1Ic"
      }
    },
    {
      "cell_type": "code",
      "source": [
        "Idioma ={'Maria':'Español','Carla':'Italiano','Francisco':'Francés'}\n",
        "for persona, idiom in Idioma.items():\n",
        "  print(f\"El {persona} atravieza {idiom}.\")"
      ],
      "metadata": {
        "id": "Rzw66wHUAqeQ"
      },
      "execution_count": null,
      "outputs": []
    },
    {
      "cell_type": "markdown",
      "source": [
        "**UNA LISTA EN UN DICCIONARIO**"
      ],
      "metadata": {
        "id": "ZvtCxOs8f6B6"
      }
    },
    {
      "cell_type": "markdown",
      "source": [
        "Ejercicio 1\n",
        "\n",
        "Cree tres nuevos diccionarios que representen a diferentes personas y almacene los tres diccionarios en una lista llamada personas. Recorra su lista de personas. Mientras recorre la lista, imprima todo lo que sabe sobre cada persona."
      ],
      "metadata": {
        "id": "4wKsc8u7f9gU"
      }
    },
    {
      "cell_type": "code",
      "source": [
        "persona_1 = {'nombre':'Maria','edad':24}\n",
        "persona_2 = {'nombre':'Carla','edad':15}\n",
        "persona_3 = {'nombre':'Frank','edad':30}\n",
        "personas = [persona_1,persona_2,persona_3]\n",
        "#print(personas)\n",
        "for persona in personas:\n",
        "  print(f\"Hola me llamo {persona['nombre']} y tengo {persona['edad']} años.\")\n"
      ],
      "metadata": {
        "colab": {
          "base_uri": "https://localhost:8080/"
        },
        "id": "k9ExU31TB6JP",
        "outputId": "efa55e08-7f5d-4914-c047-e5a58bd7ccaa"
      },
      "execution_count": null,
      "outputs": [
        {
          "output_type": "stream",
          "name": "stdout",
          "text": [
            "Hola me llamo Maria y tengo 24 años.\n",
            "Hola me llamo Carla y tengo 15 años.\n",
            "Hola me llamo Frank y tengo 30 años.\n"
          ]
        }
      ]
    },
    {
      "cell_type": "markdown",
      "source": [
        "Ejercicio 2\n",
        "\n",
        "Haga varios diccionarios, donde cada diccionario represente una mascota diferente. En cada diccionario, incluya el tipo de animal y el nombre del dueño. Guarde estos diccionarios en una lista llamada mascotas. A continuación, recorra su lista y, mientras lo hace, imprima todo lo que sepa sobre cada mascota."
      ],
      "metadata": {
        "id": "e72uQrvzgANp"
      }
    },
    {
      "cell_type": "code",
      "source": [
        "mascota_1 = {'tipo_animal':'Perro','dueño':'Maria'}\n",
        "mascota_2 = {'tipo_animal':'Gato','dueño':'Fredy'}\n",
        "mascota_3 = {'tipo_animal':'Conejo','dueño':'Ricardo'}\n",
        "mascotas = [mascota_1,mascota_2,mascota_3]\n",
        "for mascota in mascotas:\n",
        "  print(f\"Esta mascota es un {mascota['tipo_animal']} y su dueño es {mascota['dueño']}.\")"
      ],
      "metadata": {
        "colab": {
          "base_uri": "https://localhost:8080/"
        },
        "id": "u_57nVr7CYDg",
        "outputId": "dcada766-eb4b-4011-cea5-bcdd8f5f56d8"
      },
      "execution_count": null,
      "outputs": [
        {
          "output_type": "stream",
          "name": "stdout",
          "text": [
            "Esta mascota es un Perro y su dueño es Maria.\n",
            "Esta mascota es un Gato y su dueño es Fredy.\n",
            "Esta mascota es un Conejo y su dueño es Ricardo.\n"
          ]
        }
      ]
    },
    {
      "cell_type": "markdown",
      "source": [
        "Ejercicio 3\n",
        "\n",
        "Haga un diccionario llamado lugares_favoritos. Piense en tres nombres para usar como llaves en el diccionario y almacene de uno a tres lugares favoritos para cada persona. Recorre el diccionario e imprime el nombre de cada persona y sus lugares favoritos."
      ],
      "metadata": {
        "id": "yPaOEc5EgCly"
      }
    },
    {
      "cell_type": "code",
      "source": [
        "lugares_favoritos = {\n",
        "       'Carla': ['Paris', 'Florencia'],\n",
        "       'Fredy': ['Arequipa'],\n",
        "       'Ricardo': ['Quito', 'Bogotá'],\n",
        "       }\n",
        "\n",
        "for nombre, favoritos in lugares_favoritos.items():\n",
        "  print(f\"\\nLos lugares favoritos de {nombre} son:\")\n",
        "  for favorito in favoritos:\n",
        "    print(f\"\\t{favorito}\")"
      ],
      "metadata": {
        "colab": {
          "base_uri": "https://localhost:8080/"
        },
        "id": "Uw8c2nqkD3As",
        "outputId": "745c3c2d-c466-4380-f49a-7e674cdbdb60"
      },
      "execution_count": null,
      "outputs": [
        {
          "output_type": "stream",
          "name": "stdout",
          "text": [
            "\n",
            "Los lugares favoritos de Carla son:\n",
            "\tParis\n",
            "\tFlorencia\n",
            "\n",
            "Los lugares favoritos de Fredy son:\n",
            "\tArequipa\n",
            "\n",
            "Los lugares favoritos de Ricardo son:\n",
            "\tQuito\n",
            "\tBogotá\n"
          ]
        }
      ]
    },
    {
      "cell_type": "markdown",
      "source": [
        "Ejercicio 4\n",
        "\n",
        "Haz un diccionario llamado ciudades. Usa los nombres de tres ciudades como llaves en tu diccionario. Cree un diccionario de información sobre cada ciudad e incluya el país en el que se encuentra la ciudad, su población aproximada y un dato sobre esa ciudad. Las claves para el diccionario de cada ciudad deben ser algo como país, población y hecho. Imprime el nombre de cada ciudad y toda la información que tengas almacenada sobre ella."
      ],
      "metadata": {
        "id": "ZVgEmajogFIO"
      }
    },
    {
      "cell_type": "code",
      "source": [
        "lista_ciudades = {\n",
        "       'Buenos Aires': ['Argentina', '15.370.000', 'Es la gran capital cosmopolita de Argentina'],\n",
        "       'Quito': ['Ecuador','2,872,351','La fecha de su primera fundación es incierta.'],\n",
        "       'Bogotá': ['Colombia', '7,901,653','El nombre de Bogotá deriva de la palabra del idioma muisca «Bacatá».'],\n",
        "       }\n",
        "\n",
        "for ciudad, ciudades in lista_ciudades.items():\n",
        "  print(f\"\\nLa información de {ciudad} es:\")\n",
        "  for ciudad in ciudades:\n",
        "     print(f\"{ciudad}\") "
      ],
      "metadata": {
        "colab": {
          "base_uri": "https://localhost:8080/"
        },
        "id": "fDKIf4Y1FyxY",
        "outputId": "09eac8c5-85fa-418c-e261-fae517402c97"
      },
      "execution_count": null,
      "outputs": [
        {
          "output_type": "stream",
          "name": "stdout",
          "text": [
            "\n",
            "La información de Buenos Aires es:\n",
            "Argentina\n",
            "15.370.000\n",
            "Es la gran capital cosmopolita de Argentina\n",
            "\n",
            "La información de Quito es:\n",
            "Ecuador\n",
            "2,872,351\n",
            "La fecha de su primera fundación es incierta.\n",
            "\n",
            "La información de Bogotá es:\n",
            "Colombia\n",
            "7,901,653\n",
            "El nombre de Bogotá deriva de la palabra del idioma muisca «Bacatá».\n"
          ]
        }
      ]
    },
    {
      "cell_type": "markdown",
      "source": [
        "Ejercicio 5\n",
        "\n",
        "Ahora estamos trabajando con ejemplos que son lo suficientemente complejos como para que puedan extenderse de varias maneras. Utilice uno de los programas de este laboratorio y amplíelo agregando nuevas claves y valores, cambiando el contexto del programa o mejorando el formato de la salida."
      ],
      "metadata": {
        "id": "iAP6xgkfgHbT"
      }
    },
    {
      "cell_type": "code",
      "source": [
        "lista_ciudades = {}\n",
        "ciu= str(input(\"Ingresa la ciudad: \"))\n",
        "pa= str(input(\"Ingrese el país de origen: \"))\n",
        "pobl= str(input(\"Ingrese la poblacion de la ciudad: \"))\n",
        "dat=str(input(\"Ingrese algún dato sobre la ciudad: \"))\n",
        "lista_ciudades['ciudad']=ciu\n",
        "lista_ciudades['pais']=pa\n",
        "lista_ciudades['poblacion']=pobl\n",
        "lista_ciudades['dato']=dat\n",
        "print(f\"La información de {ciu} es:\")\n",
        "print(lista_ciudades)\n",
        "\n"
      ],
      "metadata": {
        "colab": {
          "base_uri": "https://localhost:8080/"
        },
        "id": "HGQDVcAZLMEw",
        "outputId": "bbaf359d-adb7-455d-be11-959547e96d4a"
      },
      "execution_count": null,
      "outputs": [
        {
          "output_type": "stream",
          "name": "stdout",
          "text": [
            "Ingresa la ciudad: Lima\n",
            "Ingrese el país de origen: Peru\n",
            "Ingrese la poblacion de la ciudad: 8000000\n",
            "Ingrese algún dato sobre la ciudad: Ciudad de los Reyes\n",
            "La información de Lima es:\n",
            "{'ciudad': 'Lima', 'pais': 'Peru', 'poblacion': '8000000', 'dato': 'Ciudad de los Reyes'}\n"
          ]
        }
      ]
    }
  ]
}