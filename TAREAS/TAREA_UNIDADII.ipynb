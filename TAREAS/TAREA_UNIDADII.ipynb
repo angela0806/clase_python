{
  "nbformat": 4,
  "nbformat_minor": 0,
  "metadata": {
    "colab": {
      "provenance": [],
      "collapsed_sections": [],
      "authorship_tag": "ABX9TyPN12EBaIN+D97ZqLAP6CY4",
      "include_colab_link": true
    },
    "kernelspec": {
      "name": "python3",
      "display_name": "Python 3"
    },
    "language_info": {
      "name": "python"
    }
  },
  "cells": [
    {
      "cell_type": "markdown",
      "metadata": {
        "id": "view-in-github",
        "colab_type": "text"
      },
      "source": [
        "<a href=\"https://colab.research.google.com/github/angela0806/clase_python/blob/main/TAREAS/TAREA_UNIDADII.ipynb\" target=\"_parent\"><img src=\"https://colab.research.google.com/assets/colab-badge.svg\" alt=\"Open In Colab\"/></a>"
      ]
    },
    {
      "cell_type": "markdown",
      "source": [
        "# **UNIDAD II: ESTRUCTURAS SELECTIVAS Y REPETITIVAS**"
      ],
      "metadata": {
        "id": "oNUWxZYyXlPa"
      }
    },
    {
      "cell_type": "markdown",
      "source": [
        "**PROBANDO MÚLTIPLES CONDICIONES**"
      ],
      "metadata": {
        "id": "uWBLczG9YVos"
      }
    },
    {
      "cell_type": "markdown",
      "source": [
        "Ejercicio 1\n",
        "\n",
        "Imagina que un extraterrestre acaba de ser derribado en un juego. Cree una variable llamada alien_color y asígnele un valor de 'verde', 'amarillo' o 'rojo'.\n",
        "\n",
        "Escribe una declaración if para probar si el color del extraterrestre es verde. Si es así, imprime un mensaje de que el jugador acaba de ganar 5 puntos."
      ],
      "metadata": {
        "id": "Yg5_VQQaXhrG"
      }
    },
    {
      "cell_type": "code",
      "execution_count": null,
      "metadata": {
        "id": "7-ENCX6OWZ49",
        "colab": {
          "base_uri": "https://localhost:8080/"
        },
        "outputId": "9064d298-e813-4038-f17b-788fee332807"
      },
      "outputs": [
        {
          "output_type": "stream",
          "name": "stdout",
          "text": [
            "El jugador acaba de ganar 5 puntos\n"
          ]
        }
      ],
      "source": [
        "#Declarando Lista\n",
        "alien_color=['verde','amarillo','rojo']\n",
        "#Proceso\n",
        "if 'verde' in alien_color:\n",
        "   print('El jugador acaba de ganar 5 puntos') \n",
        "else:\n",
        "  print('El jugador perdió 5 puntos') "
      ]
    },
    {
      "cell_type": "markdown",
      "source": [
        "Ejercicio 2\n",
        "\n",
        "Elija un color para un extraterrestre como lo hizo en el Ejercicio anterior y escriba una cadena if-else.\n",
        "\n",
        "Si el alienígena es verde, imprime un mensaje de que el jugador obtuvo 5 puntos. Si el alienígena es amarillo, imprime un mensaje de que el jugador obtuvo 10 puntos. Si el alienígena es rojo, imprime un mensaje de que el jugador obtuvo 15 puntos."
      ],
      "metadata": {
        "id": "fnu9yvZDX8wU"
      }
    },
    {
      "cell_type": "code",
      "source": [
        "alien_color=str(input(\"Ingrese el color del alien:\\t\"))\n",
        "if alien_color == 'Verde':\n",
        "  print (\"Usted ha ganado 5 puntos\")\n",
        "elif alien_color == 'Amarillo':\n",
        "  print (\"Usted ha ganado 10 puntos\")\n",
        "elif alien_color == 'Rojo':\n",
        "  print (\"Usted ha ganado 15 puntos\")\n",
        "else:\n",
        "  print (\"No es posible determinar el resultado\")"
      ],
      "metadata": {
        "id": "PRCgqlyIYJCZ",
        "colab": {
          "base_uri": "https://localhost:8080/"
        },
        "outputId": "d9fafcf7-a665-4827-9f14-de95592cd75b"
      },
      "execution_count": null,
      "outputs": [
        {
          "output_type": "stream",
          "name": "stdout",
          "text": [
            "Ingrese el color del alien:\tRojo\n",
            "Usted ha ganado 15 puntos\n"
          ]
        }
      ]
    },
    {
      "cell_type": "markdown",
      "source": [
        "**EVITANDO LOOPS INFINITOS**"
      ],
      "metadata": {
        "id": "MtOB9SodYN-6"
      }
    },
    {
      "cell_type": "markdown",
      "source": [
        "Ejercicio 1\n",
        "\n",
        "Escriba un ciclo que solicite al usuario que ingrese una serie de ingredientes para la pizza hasta que ingrese un valor de 'salir'. A medida que ingresen cada ingrediente, imprima un mensaje que diga que agregará ese ingrediente a su pizza."
      ],
      "metadata": {
        "id": "2XJgI1SxYizT"
      }
    },
    {
      "cell_type": "code",
      "source": [
        "ingrediente = str(input(\"Ingrese el ingrediente de la pizza: \"))\n",
        "while ingrediente != \"Salir\":\n",
        "  print(f\"Se agregará {ingrediente} a la pizza\")\n",
        "  ingrediente = str(input(\"Ingrese el ingrediente de la pizza: \"))"
      ],
      "metadata": {
        "id": "3JaoB80dYl1T",
        "colab": {
          "base_uri": "https://localhost:8080/"
        },
        "outputId": "5bb3b5fa-73de-4208-a2fd-2dd0f106f940"
      },
      "execution_count": null,
      "outputs": [
        {
          "name": "stdout",
          "output_type": "stream",
          "text": [
            "Ingrese el ingrediente de la pizza: sa\n",
            "Se agregará sa a la pizza\n",
            "Ingrese el ingrediente de la pizza: sa\n",
            "Se agregará sa a la pizza\n",
            "Ingrese el ingrediente de la pizza: fd\n",
            "Se agregará fd a la pizza\n",
            "Ingrese el ingrediente de la pizza: Salir\n"
          ]
        }
      ]
    },
    {
      "cell_type": "markdown",
      "source": [
        "Ejercicio 2\n",
        "\n",
        "Un cine cobra diferentes precios de boletos dependiendo de la edad de una persona. Si una persona es menor de 3 años, la entrada es gratuita; si son entre 3 y 12, el boleto cuesta s/. 10; y si son mayores de 12 años, el boleto cuesta s/. 15. Escriba un ciclo en el que pregunte a los usuarios su edad y luego dígales el costo de su boleto de cine."
      ],
      "metadata": {
        "id": "WBrYJzEWYn8e"
      }
    },
    {
      "cell_type": "code",
      "source": [
        "edad = int(input(\"Ingrese la edad de la persona: \"))\n",
        "if edad <3:\n",
        "  print(\"La entrada es gratuita\")\n",
        "elif edad >=3 and edad <12:\n",
        "  print(\"El boleto cuesta S/ 10.00\")\n",
        "else:\n",
        "  print(\"El boleto cuesta S/ 15.00\")"
      ],
      "metadata": {
        "colab": {
          "base_uri": "https://localhost:8080/"
        },
        "id": "5A7Jgd39SSHh",
        "outputId": "ad270ffd-7802-4065-9b44-2aeb68107bc2"
      },
      "execution_count": null,
      "outputs": [
        {
          "output_type": "stream",
          "name": "stdout",
          "text": [
            "Ingrese la edad de la persona: 50\n",
            "El boleto cuesta S/ 15.00\n"
          ]
        }
      ]
    },
    {
      "cell_type": "markdown",
      "source": [
        "**OLVIDANDO LA IDENTACIÓN**"
      ],
      "metadata": {
        "id": "XGned55vYt9u"
      }
    },
    {
      "cell_type": "markdown",
      "source": [
        "Ejercicio 1\n",
        "\n",
        "Piensa en al menos tres tipos de tu pizza favorita. Almacene estos nombres de pizza en una lista y luego use un ciclo for para imprimir el nombre de cada pizza.\n",
        "\n",
        "Modifique su ciclo for para imprimir una oración usando el nombre de la pizza en lugar de imprimir solo el nombre de la pizza. Para cada pizza, debe tener una línea de salida que contenga una declaración simple como Me gusta la pizza de pepperoni. Agregue una línea al final de su programa, fuera del bucle for, que indique cuánto le gusta la pizza. El resultado debe constar de tres o más líneas sobre los tipos de pizza que te gustan y luego una oración adicional, como ¡Me encanta la pizza!"
      ],
      "metadata": {
        "id": "jfyxXsxkYyz4"
      }
    },
    {
      "cell_type": "code",
      "source": [
        "pizzas=['Hawaina','Napolitana','Española']\n",
        "for pizza in pizzas:\n",
        "  print(f\"Me gusta la pizza {pizza}\")\n",
        "print(\"¡Me encanta la pizza!\")"
      ],
      "metadata": {
        "colab": {
          "base_uri": "https://localhost:8080/"
        },
        "id": "eFtQI4GJTURO",
        "outputId": "87284f1b-d616-494e-9d94-3d2bad80e4a7"
      },
      "execution_count": null,
      "outputs": [
        {
          "output_type": "stream",
          "name": "stdout",
          "text": [
            "Me gusta la pizza Hawaina\n",
            "Me gusta la pizza Napolitana\n",
            "Me gusta la pizza Española\n",
            "¡Me encanta la pizza!\n"
          ]
        }
      ]
    },
    {
      "cell_type": "markdown",
      "source": [
        "Ejercicio 2\n",
        "\n",
        "Piensa en al menos tres animales diferentes que tengan una característica común. Guarde los nombres de estos animales en una lista y luego use un ciclo for para imprimir el nombre de cada animal.\n",
        "\n",
        "Modifique su programa para imprimir una declaración sobre cada animal, como Un perro sería una gran mascota. Agregue una línea al final de su programa indicando lo que estos animales tienen en común. Podría escribir una oración como ¡Cualquiera de estos animales sería una gran mascota!"
      ],
      "metadata": {
        "id": "dVGMeYC-Y24E"
      }
    },
    {
      "cell_type": "code",
      "source": [
        "mascotas=['perro','gato','conejo']\n",
        "for mascota in mascotas:\n",
        "  print(f\"Un {mascota} sería una gran mascota.\")\n",
        "print(\"¡Todas estos animales son cariñosos!\")"
      ],
      "metadata": {
        "colab": {
          "base_uri": "https://localhost:8080/"
        },
        "id": "4vd1ZuIiVxzD",
        "outputId": "05b0a185-a57f-4c71-a369-1e90e63e937c"
      },
      "execution_count": null,
      "outputs": [
        {
          "output_type": "stream",
          "name": "stdout",
          "text": [
            "Un perro sería una gran mascota.\n",
            "Un gato sería una gran mascota.\n",
            "Un conejo sería una gran mascota.\n",
            "¡Todas estos animales son cariñosos!\n"
          ]
        }
      ]
    }
  ]
}