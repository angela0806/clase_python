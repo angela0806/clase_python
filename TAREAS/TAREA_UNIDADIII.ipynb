{
  "nbformat": 4,
  "nbformat_minor": 0,
  "metadata": {
    "colab": {
      "provenance": [],
      "collapsed_sections": [],
      "authorship_tag": "ABX9TyPU7lsM2JD24OCwjNW+qIE2",
      "include_colab_link": true
    },
    "kernelspec": {
      "name": "python3",
      "display_name": "Python 3"
    },
    "language_info": {
      "name": "python"
    }
  },
  "cells": [
    {
      "cell_type": "markdown",
      "metadata": {
        "id": "view-in-github",
        "colab_type": "text"
      },
      "source": [
        "<a href=\"https://colab.research.google.com/github/angela0806/clase_python/blob/main/TAREAS/TAREA_UNIDADIII.ipynb\" target=\"_parent\"><img src=\"https://colab.research.google.com/assets/colab-badge.svg\" alt=\"Open In Colab\"/></a>"
      ]
    },
    {
      "cell_type": "markdown",
      "source": [
        "# **UNIDAD III: FUNCIONES**"
      ],
      "metadata": {
        "id": "-sg3Qyg4Zn-w"
      }
    },
    {
      "cell_type": "markdown",
      "source": [
        "**USANDO INFORMACIÓN DENTRO DE FUNCIONES**"
      ],
      "metadata": {
        "id": "0aQqwEaCZ4ZJ"
      }
    },
    {
      "cell_type": "markdown",
      "source": [
        "Ejercicio 1\n",
        "\n",
        "Escriba una función llamada display_message() que imprima una oración que diga a todos lo que está aprendiendo en este capítulo. Llame a la función y asegúrese de que el mensaje se muestre correctamente."
      ],
      "metadata": {
        "id": "RQ_R4slBZx8G"
      }
    },
    {
      "cell_type": "code",
      "source": [
        "def display_message():\n",
        "  print(\"¡Estamos aprendiendo funciones en Python!\")"
      ],
      "metadata": {
        "id": "ZmW3NwZ0aHpn"
      },
      "execution_count": null,
      "outputs": []
    },
    {
      "cell_type": "code",
      "source": [
        "display_message()"
      ],
      "metadata": {
        "id": "zpRQf8o9aIYl",
        "colab": {
          "base_uri": "https://localhost:8080/"
        },
        "outputId": "f038f267-a37c-4c0f-9ad0-4e4aefee8073"
      },
      "execution_count": null,
      "outputs": [
        {
          "output_type": "stream",
          "name": "stdout",
          "text": [
            "¡Estamos aprendiendo funciones en Python!\n"
          ]
        }
      ]
    },
    {
      "cell_type": "markdown",
      "source": [
        "Ejercicio 2\n",
        "\n",
        "Escriba una función llamada favorite_book() que acepte un parámetro, título. La función debe imprimir un mensaje, como Uno de mis libros favoritos es Alicia en el país de las maravillas. Llame a la función, asegurándose de incluir el título de un libro como argumento en la llamada a la función."
      ],
      "metadata": {
        "id": "tZNmmSMYZmye"
      }
    },
    {
      "cell_type": "code",
      "source": [
        "def favorite_book(libro):\n",
        "  print(f'Uno de mis libros favoritos es \"{libro}\".')"
      ],
      "metadata": {
        "id": "b3ELYDb4aKfN"
      },
      "execution_count": null,
      "outputs": []
    },
    {
      "cell_type": "code",
      "source": [
        "favorite_book('El principito')"
      ],
      "metadata": {
        "id": "5xqa_MZWaMuI",
        "colab": {
          "base_uri": "https://localhost:8080/"
        },
        "outputId": "bd3341be-fee9-478d-a05b-96d92832ed59"
      },
      "execution_count": null,
      "outputs": [
        {
          "output_type": "stream",
          "name": "stdout",
          "text": [
            "Uno de mis libros favoritos es \"El principito\".\n"
          ]
        }
      ]
    },
    {
      "cell_type": "markdown",
      "source": [
        "**EVITAR ERRORES DE ARGUMENTO**"
      ],
      "metadata": {
        "id": "aIB3J9xLaVt9"
      }
    },
    {
      "cell_type": "markdown",
      "source": [
        "Ejercicio 1\n",
        "\n",
        "Escribe una función llamada make_shirt() que acepte un tamaño y el texto de un mensaje que debería estar impreso en la camiseta. La función debe imprimir una oración que resuma el tamaño de la camisa y el mensaje impreso en ella.\n",
        "\n",
        "Llame a la función una vez usando argumentos posicionales para hacer una camisa. Llame a la función por segunda vez usando argumentos de palabras clave."
      ],
      "metadata": {
        "id": "Z4x6w_SMablX"
      }
    },
    {
      "cell_type": "code",
      "source": [
        "def make_shirt(tamano, mensaje):\n",
        "  print(f'El tamaño de la camiseta es {tamano} y el mensaje será \"{mensaje}\".')"
      ],
      "metadata": {
        "id": "OJGcK6iCagIH"
      },
      "execution_count": null,
      "outputs": []
    },
    {
      "cell_type": "code",
      "source": [
        "make_shirt('28', 'Mi mundo es Python')"
      ],
      "metadata": {
        "id": "mrJl-gKsahuS",
        "colab": {
          "base_uri": "https://localhost:8080/"
        },
        "outputId": "a43bf462-b92e-4e38-e3a4-25b4a6d6f543"
      },
      "execution_count": null,
      "outputs": [
        {
          "output_type": "stream",
          "name": "stdout",
          "text": [
            "El tamaño de la camiseta es 28 y el mensaje será \"Mi mundo es Python\".\n"
          ]
        }
      ]
    },
    {
      "cell_type": "code",
      "source": [
        "make_shirt(tamano = '28', mensaje = 'Mi mundo es Python')"
      ],
      "metadata": {
        "id": "lGGnnFIYajj6",
        "colab": {
          "base_uri": "https://localhost:8080/"
        },
        "outputId": "c8584237-a3b6-4bf1-d8e1-471e508899e6"
      },
      "execution_count": null,
      "outputs": [
        {
          "output_type": "stream",
          "name": "stdout",
          "text": [
            "El tamaño de la camiseta es 28 y el mensaje será \"Mi mundo es Python\".\n"
          ]
        }
      ]
    },
    {
      "cell_type": "markdown",
      "source": [
        "Ejercicio 2\n",
        "\n",
        "Modifique la función make_shirt() para que las camisetas sean grandes por defecto con un mensaje que diga Me encanta Python. Haz una camiseta grande y una camiseta mediana con el mensaje predeterminado y una camiseta de cualquier tamaño con un mensaje diferente."
      ],
      "metadata": {
        "id": "xIe8H8YOal9a"
      }
    },
    {
      "cell_type": "code",
      "source": [
        "def make_shirt(tamano = 'grande', mensaje = 'Me encanta Python'):\n",
        "  print(f'El tamaño de la camiseta es {tamano} y el mensaje será \"{mensaje}\".')"
      ],
      "metadata": {
        "id": "Hex4qMH2at4T"
      },
      "execution_count": null,
      "outputs": []
    },
    {
      "cell_type": "code",
      "source": [
        "make_shirt()"
      ],
      "metadata": {
        "colab": {
          "base_uri": "https://localhost:8080/"
        },
        "id": "2T6Aj80NZ2ho",
        "outputId": "2a7f9c34-4b70-4ac1-d496-ce02f4193dd9"
      },
      "execution_count": null,
      "outputs": [
        {
          "output_type": "stream",
          "name": "stdout",
          "text": [
            "El tamaño de la camiseta es grande y el mensaje será \"Me encanta Python\".\n"
          ]
        }
      ]
    },
    {
      "cell_type": "code",
      "source": [
        "make_shirt(tamano = 'mediano')"
      ],
      "metadata": {
        "id": "-2xL6GIjaxuq",
        "colab": {
          "base_uri": "https://localhost:8080/"
        },
        "outputId": "35ab22f7-b42e-41c3-8ce5-85b9f61649a5"
      },
      "execution_count": null,
      "outputs": [
        {
          "output_type": "stream",
          "name": "stdout",
          "text": [
            "El tamaño de la camiseta es mediano y el mensaje será \"Me encanta Python\".\n"
          ]
        }
      ]
    },
    {
      "cell_type": "code",
      "source": [
        "make_shirt(mensaje = 'Me gusta el curso de python', tamano = 'pequeño')"
      ],
      "metadata": {
        "id": "yJlRTvanazdA",
        "colab": {
          "base_uri": "https://localhost:8080/"
        },
        "outputId": "2e478617-1eea-4d9e-f6dd-2fc50593e5d6"
      },
      "execution_count": null,
      "outputs": [
        {
          "output_type": "stream",
          "name": "stdout",
          "text": [
            "El tamaño de la camiseta es pequeño y el mensaje será \"Me gusta el curso de python\".\n"
          ]
        }
      ]
    },
    {
      "cell_type": "markdown",
      "source": [
        "Ejercicio 3\n",
        "\n",
        "Escribe una función llamada describe_city() que acepte el nombre de una ciudad y su país. La función debe imprimir una oración simple, como Reykjavik está en Islandia. Asigne al parámetro para el país un valor predeterminado. Llame a su función para tres ciudades diferentes, al menos una de las cuales no se encuentra en el país predeterminado."
      ],
      "metadata": {
        "id": "yWGr4CL7a2o5"
      }
    },
    {
      "cell_type": "code",
      "source": [
        "def describe_city(ciudad, pais = 'Argentina'):\n",
        "  print(f'{ciudad} está en {pais}')"
      ],
      "metadata": {
        "id": "bpMHBpPCa5uU"
      },
      "execution_count": null,
      "outputs": []
    },
    {
      "cell_type": "code",
      "source": [
        "describe_city('Buenos Aires')"
      ],
      "metadata": {
        "id": "gLhyZ_IPa7pX",
        "colab": {
          "base_uri": "https://localhost:8080/"
        },
        "outputId": "0556ca7e-ef74-455e-f50e-ea22a81bd324"
      },
      "execution_count": null,
      "outputs": [
        {
          "output_type": "stream",
          "name": "stdout",
          "text": [
            "Buenos Aires está en Argentina\n"
          ]
        }
      ]
    },
    {
      "cell_type": "code",
      "source": [
        "describe_city(ciudad = 'Rosario')"
      ],
      "metadata": {
        "id": "RCexnaxKa9ih",
        "colab": {
          "base_uri": "https://localhost:8080/"
        },
        "outputId": "7fa8a261-78cc-43fe-b10d-760c6bf8085b"
      },
      "execution_count": null,
      "outputs": [
        {
          "output_type": "stream",
          "name": "stdout",
          "text": [
            "Rosario está en Argentina\n"
          ]
        }
      ]
    },
    {
      "cell_type": "code",
      "source": [
        "describe_city(ciudad = 'Quito', pais = 'Ecuador')"
      ],
      "metadata": {
        "id": "BQ2OPD0Pa_iT",
        "colab": {
          "base_uri": "https://localhost:8080/"
        },
        "outputId": "d430467d-8e77-4763-88a8-388ac56c421d"
      },
      "execution_count": null,
      "outputs": [
        {
          "output_type": "stream",
          "name": "stdout",
          "text": [
            "Quito está en Ecuador\n"
          ]
        }
      ]
    },
    {
      "cell_type": "markdown",
      "source": [
        "**USANDO FUNCIONES CON LOOPS WHILE**"
      ],
      "metadata": {
        "id": "a6mFe7ZDbI28"
      }
    },
    {
      "cell_type": "markdown",
      "source": [
        "Ejercicio 1\n",
        "\n",
        "Escribe una función llamada city_country() que tome el nombre de una ciudad y su país. La función debería devolver una cadena con el formato siguiente:\n",
        "\n",
        "\"Santiago, Chile\"\n",
        "\n",
        "Llame a su función con al menos tres pares de ciudades y países e imprima los valores que se devuelven."
      ],
      "metadata": {
        "id": "3yGYIcNZbXuR"
      }
    },
    {
      "cell_type": "code",
      "source": [
        "def city_country(ciudades, paises):\n",
        "   full_city = f'{ciudades}, {paises} '\n",
        "   return full_city.title()\n",
        "\n"
      ],
      "metadata": {
        "id": "VKFu8g0Abe8d"
      },
      "execution_count": null,
      "outputs": []
    },
    {
      "cell_type": "code",
      "source": [
        "city_country(\"Arequipa\",\"Perú\")"
      ],
      "metadata": {
        "colab": {
          "base_uri": "https://localhost:8080/",
          "height": 36
        },
        "id": "dkLrYROrcPtN",
        "outputId": "cf122602-0cd5-4bf7-db6a-94cf976200dd"
      },
      "execution_count": null,
      "outputs": [
        {
          "output_type": "execute_result",
          "data": {
            "text/plain": [
              "'Arequipa, Perú '"
            ],
            "application/vnd.google.colaboratory.intrinsic+json": {
              "type": "string"
            }
          },
          "metadata": {},
          "execution_count": 50
        }
      ]
    },
    {
      "cell_type": "markdown",
      "source": [
        "Ejercicio 2\n",
        "\n",
        "Escriba una función llamada make_album() que cree un diccionario que describa un álbum de música. La función debe tomar el nombre de un artista y el título de un álbum, y debe devolver un diccionario que contenga estos dos datos. Utilice la función para crear tres diccionarios que representen diferentes álbumes. Imprima cada valor devuelto para mostrar que los diccionarios están almacenando la información del álbum correctamente.\n",
        "\n",
        "Use None para agregar un parámetro opcional a make_album() que le permita almacenar la cantidad de canciones en un álbum. Si la línea de llamada incluye un valor para la cantidad de canciones, agregue ese valor al diccionario del álbum. Realice al menos una nueva llamada de función que incluya la cantidad de canciones en un álbum."
      ],
      "metadata": {
        "id": "fN46joE2bmFn"
      }
    },
    {
      "cell_type": "code",
      "source": [
        "def make_album(artista, album, canciones=None):\n",
        "  \"\"\"La funcion devuelve la descripcion de un album de musica.\"\"\"\n",
        "  musica = {'Artista': artista, 'Album': album}\n",
        "  if canciones:musica['canciones'] = canciones\n",
        "  return musica"
      ],
      "metadata": {
        "id": "aPM-1lDZbnTz"
      },
      "execution_count": null,
      "outputs": []
    },
    {
      "cell_type": "code",
      "source": [
        "make_album(\"Jhon Lenon\",\"Imagine\")"
      ],
      "metadata": {
        "colab": {
          "base_uri": "https://localhost:8080/"
        },
        "id": "b3wIKE-Gih5V",
        "outputId": "9e86b631-6a21-4cd8-9605-8c5d40d40afa"
      },
      "execution_count": null,
      "outputs": [
        {
          "output_type": "execute_result",
          "data": {
            "text/plain": [
              "{'Artista': 'Jhon Lenon', 'Album': 'Imagine'}"
            ]
          },
          "metadata": {},
          "execution_count": 56
        }
      ]
    },
    {
      "cell_type": "code",
      "source": [
        "make_album(\"Jhon Lenon\",\"Imagine\",6)"
      ],
      "metadata": {
        "colab": {
          "base_uri": "https://localhost:8080/"
        },
        "id": "0ciN10nFirdA",
        "outputId": "fa344dc3-69dd-45ec-9093-a23ec84a9f90"
      },
      "execution_count": null,
      "outputs": [
        {
          "output_type": "execute_result",
          "data": {
            "text/plain": [
              "{'Artista': 'Jhon Lenon', 'Album': 'Imagine', 'canciones': 6}"
            ]
          },
          "metadata": {},
          "execution_count": 57
        }
      ]
    },
    {
      "cell_type": "markdown",
      "source": [
        "Ejercicio 3\n",
        "\n",
        "Comience con su programa del ejercicio anterior. Escriba un ciclo while que permita a los usuarios ingresar el artista y el título de un álbum. Una vez que tenga esa información, llame a make_album() con la entrada del usuario e imprima el diccionario que se crea. Asegúrese de incluir un valor de salida en el ciclo while."
      ],
      "metadata": {
        "id": "CVFR9Eovbom_"
      }
    },
    {
      "cell_type": "code",
      "source": [
        "while True:\n",
        "  print(\"Escriba 'salir' si desea terminar.\")\n",
        "  f_nombre = input(\"Nombre: \")\n",
        "  if f_nombre =='salir':\n",
        "    break\n",
        "  f_album = input(\"Album: \")\n",
        "  if f_album == 'salir':\n",
        "    break\n",
        "  f_canciones = input(\"Número de canciones: \")\n",
        "  if f_canciones == 'salir':\n",
        "    break\n",
        "  datos_artista = make_album(f_nombre, f_album, f_canciones)\n",
        "  print(datos_artista)"
      ],
      "metadata": {
        "colab": {
          "base_uri": "https://localhost:8080/"
        },
        "id": "jSDkeOneh1dG",
        "outputId": "55d0266c-1f18-4ae4-8c29-394468596d2b"
      },
      "execution_count": null,
      "outputs": [
        {
          "name": "stdout",
          "output_type": "stream",
          "text": [
            "Escriba 'salir' si desea terminar.\n",
            "Nombre: Jhon Lenon\n",
            "Album: Imagine\n",
            "Número de canciones: 6\n",
            "{'Artista': 'Jhon Lenon', 'Album': 'Imagine', 'canciones': '6'}\n",
            "Escriba 'salir' si desea terminar.\n",
            "Nombre: salir\n"
          ]
        }
      ]
    },
    {
      "cell_type": "markdown",
      "source": [
        "**MODIFICAR UNA LISTA EN UNA FUNCIÓN**"
      ],
      "metadata": {
        "id": "-CKmeCCabve-"
      }
    },
    {
      "cell_type": "markdown",
      "source": [
        "Ejercicio 1\n",
        "\n",
        "Haz una lista que contenga una serie de mensajes de texto cortos. Pase la lista a una función llamada show_messages(), que imprime cada mensaje de texto."
      ],
      "metadata": {
        "id": "wiCd6MK5b1J2"
      }
    },
    {
      "cell_type": "code",
      "source": [
        "def show_messages(messages):\n",
        "  for message in messages:\n",
        "    print(f'\\n{message}')"
      ],
      "metadata": {
        "id": "B7B8raK4b5oS"
      },
      "execution_count": null,
      "outputs": []
    },
    {
      "cell_type": "code",
      "source": [
        "show_messages(['mensaje 1','mensaje 2','mensaje 3'])"
      ],
      "metadata": {
        "id": "DYUBKiAwb718",
        "colab": {
          "base_uri": "https://localhost:8080/"
        },
        "outputId": "a1bd2578-b4fc-4898-8b67-b7baf04789b3"
      },
      "execution_count": null,
      "outputs": [
        {
          "output_type": "stream",
          "name": "stdout",
          "text": [
            "\n",
            "mensaje 1\n",
            "\n",
            "mensaje 2\n",
            "\n",
            "mensaje 3\n"
          ]
        }
      ]
    },
    {
      "cell_type": "markdown",
      "source": [
        "Ejercicio 2\n",
        "\n",
        "Comience con una copia de su programa del Ejercicio anterior. Escriba una función llamada send_messages() que imprima cada mensaje de texto y mueva cada mensaje a una nueva lista llamada sent_messages a medida que se imprime. Después de llamar a la función, imprima ambas listas para asegurarse de que los mensajes se movieron correctamente."
      ],
      "metadata": {
        "id": "FuYzc-Syb4Sw"
      }
    },
    {
      "cell_type": "code",
      "source": [
        "def send_messages(messages):\n",
        "  sent_messaged= []\n",
        "  for message in messages:\n",
        "    print(f'\\n{message}')\n",
        "    sent_messaged.append(message)\n",
        "  print(f\"\\nLa lista movida es: {sent_messaged}\")\n",
        "  "
      ],
      "metadata": {
        "id": "nLVSgRZZmY8r"
      },
      "execution_count": null,
      "outputs": []
    },
    {
      "cell_type": "code",
      "source": [
        "send_messages(['mensaje 1','mensaje 2','mensaje 3'])"
      ],
      "metadata": {
        "colab": {
          "base_uri": "https://localhost:8080/"
        },
        "id": "fm02ibNOngcZ",
        "outputId": "1ec8dbfa-1f4b-4ca3-ea37-d9b4028f49eb"
      },
      "execution_count": null,
      "outputs": [
        {
          "output_type": "stream",
          "name": "stdout",
          "text": [
            "\n",
            "mensaje 1\n",
            "\n",
            "mensaje 2\n",
            "\n",
            "mensaje 3\n",
            "\n",
            "La lista movida es: ['mensaje 1', 'mensaje 2', 'mensaje 3']\n"
          ]
        }
      ]
    },
    {
      "cell_type": "markdown",
      "source": [
        "Ejercicio 3\n",
        "\n",
        "Comience con su trabajo del Ejercicio anterior. Llame a la función send_messages() con una copia de la lista de mensajes. Después de llamar a la función, imprima ambas listas para mostrar que la lista original ha conservado sus mensajes."
      ],
      "metadata": {
        "id": "KaVxgeDCcB3W"
      }
    },
    {
      "cell_type": "code",
      "source": [
        "send_messages(['mensaje 1','mensaje 2','mensaje 3'])\n"
      ],
      "metadata": {
        "colab": {
          "base_uri": "https://localhost:8080/"
        },
        "id": "r1XXaMEMn5zx",
        "outputId": "28a67459-6a7d-442b-a94b-327a11de8489"
      },
      "execution_count": null,
      "outputs": [
        {
          "output_type": "stream",
          "name": "stdout",
          "text": [
            "\n",
            "mensaje 1\n",
            "\n",
            "mensaje 2\n",
            "\n",
            "mensaje 3\n",
            "\n",
            "La lista movida es: ['mensaje 1', 'mensaje 2', 'mensaje 3']\n"
          ]
        }
      ]
    },
    {
      "cell_type": "markdown",
      "source": [
        "**USO DE ARGUMENTOS DE PALABRAS CLAVE ARBITRARIAS**"
      ],
      "metadata": {
        "id": "ypwuYR7VcJLb"
      }
    },
    {
      "cell_type": "markdown",
      "source": [
        "Ejercicio 1\n",
        "\n",
        "Escribe una función que acepte una lista de artículos que una persona quiere en un sándwich. La función debe tener un parámetro que recopile tantos elementos como proporcione la llamada a la función, y debe imprimir un resumen del sándwich que se está ordenando. Llame a la función tres veces, usando un número diferente de argumentos cada vez."
      ],
      "metadata": {
        "id": "asfR8hFVcPc2"
      }
    },
    {
      "cell_type": "code",
      "source": [
        "def make_sandwich(*toppings):\n",
        "  \"\"\"This function displays a sandwich toppings\"\"\"\n",
        "  print('\\nLa pizza contiene los siguientes toppings:')\n",
        "  for topping in toppings:\n",
        "    print(f'- {topping}') "
      ],
      "metadata": {
        "id": "fgGQZqQfcVsC"
      },
      "execution_count": null,
      "outputs": []
    },
    {
      "cell_type": "code",
      "source": [
        "make_sandwich('Queso', 'Doble jamón', 'papas')"
      ],
      "metadata": {
        "id": "98hzNoLIcYeo",
        "colab": {
          "base_uri": "https://localhost:8080/"
        },
        "outputId": "ac3ac268-e29e-4a8e-cbac-9b53cbb3e157"
      },
      "execution_count": null,
      "outputs": [
        {
          "output_type": "stream",
          "name": "stdout",
          "text": [
            "\n",
            "La pizza contiene los siguientes toppings:\n",
            "- Queso\n",
            "- Doble jamón\n",
            "- papas\n"
          ]
        }
      ]
    },
    {
      "cell_type": "markdown",
      "source": [
        "Ejercicio 2\n",
        "\n",
        "Comience con una copia de user_profile de Uso de argumentos de palabras clave arbitrarias. Cree un perfil de usted mismo llamando a build_profile(), usando su nombre y apellido y otros tres pares clave-valor que lo describan."
      ],
      "metadata": {
        "id": "I8WIZMcycUN1"
      }
    },
    {
      "cell_type": "code",
      "source": [
        "def build_profile(first, last, **user_info):\n",
        "  \"\"\"Build a dictionary containing everything we know about a user.\"\"\"\n",
        "  user_info['Nombre'] = first \n",
        "  user_info['Apellido'] = last\n",
        "  return user_info"
      ],
      "metadata": {
        "id": "YCJ1bp9RqleA"
      },
      "execution_count": null,
      "outputs": []
    },
    {
      "cell_type": "code",
      "source": [
        "build_profile('Angelica', 'Armas',pais = 'Peru',ciudad = 'Huaraz',carrera = 'Ing. Sistemas',edad=25)"
      ],
      "metadata": {
        "colab": {
          "base_uri": "https://localhost:8080/"
        },
        "id": "NuG-U0-ErZ2r",
        "outputId": "cb4b2e6f-910f-470a-a9b7-72d62290ac34"
      },
      "execution_count": null,
      "outputs": [
        {
          "output_type": "execute_result",
          "data": {
            "text/plain": [
              "{'pais': 'Peru',\n",
              " 'ciudad': 'Huaraz',\n",
              " 'carrera': 'Ing. Sistemas',\n",
              " 'edad': 25,\n",
              " 'Nombre': 'Angelica',\n",
              " 'Apellido': 'Armas'}"
            ]
          },
          "metadata": {},
          "execution_count": 89
        }
      ]
    },
    {
      "cell_type": "markdown",
      "source": [
        "Ejercicio 3\n",
        "\n",
        "Escribe una función que almacene información sobre un automóvil en un diccionario. La función siempre debe recibir un fabricante y un nombre de modelo. Entonces debería aceptar un número arbitrario de argumentos de palabras clave. Llame a la función con la información requerida y otros dos pares de nombre y valor, como un color o una función opcional. Su función debería funcionar para una llamada como esta:\n",
        "\n",
        "coche = make_car('subaru', 'outback', color='blue', tow_package=True)\n",
        "\n",
        "Imprima el diccionario que se devuelve para asegurarse de que toda la información se almacenó correctamente."
      ],
      "metadata": {
        "id": "O4fY2LkPcdDX"
      }
    },
    {
      "cell_type": "code",
      "source": [
        "def make_car(fabri, model, **car_info):\n",
        "  car_info['Fabricante'] = fabri \n",
        "  car_info['Modelo'] = model\n",
        "  return car_info"
      ],
      "metadata": {
        "id": "_o0lIMZwshQJ"
      },
      "execution_count": null,
      "outputs": []
    },
    {
      "cell_type": "code",
      "source": [
        "make_car('subaru', 'outback', color='blue', tow_package=True)"
      ],
      "metadata": {
        "colab": {
          "base_uri": "https://localhost:8080/"
        },
        "id": "lyoNHbzFt7t3",
        "outputId": "577e8a6c-c60b-4fe2-e413-f55a85b4c07c"
      },
      "execution_count": null,
      "outputs": [
        {
          "output_type": "execute_result",
          "data": {
            "text/plain": [
              "{'color': 'blue',\n",
              " 'tow_package': True,\n",
              " 'Fabricante': 'subaru',\n",
              " 'Modelo': 'outback'}"
            ]
          },
          "metadata": {},
          "execution_count": 91
        }
      ]
    },
    {
      "cell_type": "markdown",
      "source": [
        "**CREANDO MÚLTIPLES SENTENCIAS**"
      ],
      "metadata": {
        "id": "D5JZbnAkcj9u"
      }
    },
    {
      "cell_type": "markdown",
      "source": [
        "Ejercicio 1\n",
        "\n",
        "Haz una clase llamada Restaurante. El método init() para Restaurante debe almacenar dos atributos: un nombre_restaurante y un tipo_cocina. Cree un método llamado describe_restaurant() que imprima estos dos datos y un método llamado open_restaurant() que imprima un mensaje que indique que el restaurante está abierto.\n",
        "\n",
        "Cree una instancia llamada restaurante de su clase. Imprima los dos atributos individualmente y luego llame a ambos métodos."
      ],
      "metadata": {
        "id": "527cD3o0ctxZ"
      }
    },
    {
      "cell_type": "code",
      "source": [
        "class Restaurante:\n",
        "    def __init__(self, nombre_restaurante, tipo_cocina):\n",
        "        self.nombre_restaurante = nombre_restaurante\n",
        "        self.tipo_cocina = tipo_cocina\n",
        "    def describe_restaurant(self):\n",
        "        print(f'{self.nombre_restaurante}, {self.tipo_cocina}')\n",
        "    def open_restaurant(self):\n",
        "        print('El restaurante está abierto.')"
      ],
      "metadata": {
        "id": "8EBvz1Ylc13u"
      },
      "execution_count": null,
      "outputs": []
    },
    {
      "cell_type": "code",
      "source": [
        "my_rest = Restaurante('Mochica', 'Regional')"
      ],
      "metadata": {
        "id": "tdeduG1jc4Kn"
      },
      "execution_count": null,
      "outputs": []
    },
    {
      "cell_type": "code",
      "source": [
        "my_rest.nombre_restaurante"
      ],
      "metadata": {
        "id": "btkcHMExc6Gx",
        "colab": {
          "base_uri": "https://localhost:8080/",
          "height": 36
        },
        "outputId": "49ae0459-ddec-488e-8e77-d5dfaa5d0e9b"
      },
      "execution_count": null,
      "outputs": [
        {
          "output_type": "execute_result",
          "data": {
            "text/plain": [
              "'Mochica'"
            ],
            "application/vnd.google.colaboratory.intrinsic+json": {
              "type": "string"
            }
          },
          "metadata": {},
          "execution_count": 104
        }
      ]
    },
    {
      "cell_type": "code",
      "source": [
        "my_rest.describe_restaurant()"
      ],
      "metadata": {
        "id": "89uNnm0Fc_n_",
        "colab": {
          "base_uri": "https://localhost:8080/"
        },
        "outputId": "effe0a9d-be8f-445a-e23a-ec74960d8018"
      },
      "execution_count": null,
      "outputs": [
        {
          "output_type": "stream",
          "name": "stdout",
          "text": [
            "Mochica, Regional\n"
          ]
        }
      ]
    },
    {
      "cell_type": "code",
      "source": [
        "my_rest.open_restaurant()"
      ],
      "metadata": {
        "id": "DITm7GNcdBbV",
        "colab": {
          "base_uri": "https://localhost:8080/"
        },
        "outputId": "d5475b56-2526-4cfd-fde0-b0dfb47af30c"
      },
      "execution_count": null,
      "outputs": [
        {
          "output_type": "stream",
          "name": "stdout",
          "text": [
            "El restaurante está abierto.\n"
          ]
        }
      ]
    },
    {
      "cell_type": "markdown",
      "source": [
        "Ejercicio 2\n",
        "\n",
        "Comience con su clase del Ejercicio anterior. Cree tres instancias diferentes de la clase y llame a describe_restaurant() para cada instancia."
      ],
      "metadata": {
        "id": "VF-7S-K8cwo4"
      }
    },
    {
      "cell_type": "code",
      "source": [
        "my_rest1 = Restaurante('Doña Maria', 'Regional')\n",
        "my_rest2 = Restaurante('Las delicias', 'Criolla')\n",
        "my_rest3 = Restaurante('Chino Jose', 'Chifa')"
      ],
      "metadata": {
        "id": "dJVUWKZxdGEG"
      },
      "execution_count": null,
      "outputs": []
    },
    {
      "cell_type": "code",
      "source": [
        "my_rest1.describe_restaurant()"
      ],
      "metadata": {
        "id": "OgjHMFbBdINd",
        "colab": {
          "base_uri": "https://localhost:8080/"
        },
        "outputId": "caf3b4fd-8636-4a41-d162-a693cda30a04"
      },
      "execution_count": null,
      "outputs": [
        {
          "output_type": "stream",
          "name": "stdout",
          "text": [
            "Doña Maria, Regional\n"
          ]
        }
      ]
    },
    {
      "cell_type": "code",
      "source": [
        "my_rest2.describe_restaurant()"
      ],
      "metadata": {
        "id": "F2mRORDsdKqV",
        "colab": {
          "base_uri": "https://localhost:8080/"
        },
        "outputId": "16876ddc-a96b-420f-c5cb-de206a3797ed"
      },
      "execution_count": null,
      "outputs": [
        {
          "output_type": "stream",
          "name": "stdout",
          "text": [
            "Las delicias, Criolla\n"
          ]
        }
      ]
    },
    {
      "cell_type": "code",
      "source": [
        "my_rest3.describe_restaurant()"
      ],
      "metadata": {
        "colab": {
          "base_uri": "https://localhost:8080/"
        },
        "id": "85jp5avXv9M5",
        "outputId": "5156ce21-2f53-48ed-c1e0-9f7a846c41e9"
      },
      "execution_count": null,
      "outputs": [
        {
          "output_type": "stream",
          "name": "stdout",
          "text": [
            "Chino Jose, Chifa\n"
          ]
        }
      ]
    },
    {
      "cell_type": "markdown",
      "source": [
        "Ejercicio 3\n",
        "\n",
        "Haz una clase llamada Usuario. Cree dos atributos llamados first_name y last_name, y luego cree varios otros atributos que normalmente se almacenan en un perfil de usuario. Cree un método llamado describe_user() que imprima un resumen de la información del usuario. Cree otro método llamado greeting_user() que imprima un saludo personalizado para el usuario.\n",
        "\n",
        "Cree varias instancias que representen a diferentes usuarios y llame a ambos métodos para cada usuario."
      ],
      "metadata": {
        "id": "6E81tyZhdOUz"
      }
    },
    {
      "cell_type": "code",
      "source": [
        "class Usuario:\n",
        "    def __init__(self, first_name, last_name):\n",
        "        self.first_name = first_name\n",
        "        self.last_name = last_name\n",
        "    def describe_user(self):\n",
        "        print(f'Tenga un saludo cordial {self.first_name} {self.last_name}.')"
      ],
      "metadata": {
        "id": "1qafD5yiwEMC"
      },
      "execution_count": null,
      "outputs": []
    },
    {
      "cell_type": "code",
      "source": [
        "my_user = Usuario('Angelica', 'Armas')"
      ],
      "metadata": {
        "id": "RT-mLAywxch9"
      },
      "execution_count": null,
      "outputs": []
    },
    {
      "cell_type": "code",
      "source": [
        "my_user.describe_user()"
      ],
      "metadata": {
        "colab": {
          "base_uri": "https://localhost:8080/"
        },
        "id": "0qgDd28txmpU",
        "outputId": "af8af868-c070-4339-d180-19c95d7cae5b"
      },
      "execution_count": null,
      "outputs": [
        {
          "output_type": "stream",
          "name": "stdout",
          "text": [
            "Tenga un saludo cordial Angelica Armas.\n"
          ]
        }
      ]
    }
  ]
}